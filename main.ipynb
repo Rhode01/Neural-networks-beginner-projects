{
 "cells": [
  {
   "cell_type": "code",
   "execution_count": 1,
   "id": "b1d8f462",
   "metadata": {},
   "outputs": [],
   "source": [
    "import numpy as np\n",
    "import matplotlib.pyplot as plt"
   ]
  },
  {
   "cell_type": "code",
   "execution_count": null,
   "id": "6e9ad93c",
   "metadata": {},
   "outputs": [],
   "source": [
    "class SimpleNN:\n",
    "    def __init__(self, input_size, hidden_size, lr=0.01, num_iter=1000):\n",
    "        self.lr = lr\n",
    "        self.num_iter = num_iter\n",
    "        np.random.seed(42)\n",
    "        self.W1 = np.random.randn(input_size, hidden_size) * 0.01\n",
    "        self.b1 = np.zeros((1, hidden_size))\n",
    "        self.W2 = np.random.randn(hidden_size, 1) * 0.01\n",
    "        self.b2 = np.zeros((1, 1))\n",
    "\n",
    "    def _sigmoid(self, z):\n",
    "        return 1 / (1 + np.exp(-z))\n",
    "\n",
    "    def _sigmoid_derivative(self, a):\n",
    "        return a * (1 - a)\n",
    "\n",
    "    def _binary_cross_entropy_error(self, y_pred, y_true):\n",
    "        m = y_true.shape[0]\n",
    "        return -np.mean(y_true * np.log(y_pred + 1e-8) + (1 - y_true) * np.log(1 - y_pred + 1e-8))"
   ]
  },
  {
   "cell_type": "code",
   "execution_count": null,
   "id": "0181df82",
   "metadata": {},
   "outputs": [],
   "source": [
    "def layer(self, hidden_size, layer_type)"
   ]
  },
  {
   "cell_type": "code",
   "execution_count": null,
   "id": "7c0d1a9b",
   "metadata": {},
   "outputs": [],
   "source": []
  }
 ],
 "metadata": {
  "kernelspec": {
   "display_name": ".venv",
   "language": "python",
   "name": "python3"
  },
  "language_info": {
   "codemirror_mode": {
    "name": "ipython",
    "version": 3
   },
   "file_extension": ".py",
   "mimetype": "text/x-python",
   "name": "python",
   "nbconvert_exporter": "python",
   "pygments_lexer": "ipython3",
   "version": "3.12.3"
  }
 },
 "nbformat": 4,
 "nbformat_minor": 5
}
